{
  "nbformat": 4,
  "nbformat_minor": 0,
  "metadata": {
    "kernelspec": {
      "display_name": "Python 3",
      "language": "python",
      "name": "python3"
    },
    "language_info": {
      "codemirror_mode": {
        "name": "ipython",
        "version": 3
      },
      "file_extension": ".py",
      "mimetype": "text/x-python",
      "name": "python",
      "nbconvert_exporter": "python",
      "pygments_lexer": "ipython3",
      "version": "3.7.3"
    },
    "colab": {
      "name": "Predict House Prices.ipynb",
      "provenance": []
    },
    "accelerator": "GPU"
  },
  "cells": [
    {
      "cell_type": "markdown",
      "metadata": {
        "id": "2VQO4ZZNrAsB"
      },
      "source": [
        "# Predicting House Prices based on diffrent features with Linear Regression using TensorFlow\n",
        "\n",
        "---\n",
        "\n"
      ]
    },
    {
      "cell_type": "markdown",
      "metadata": {
        "id": "okaR-42erAsP"
      },
      "source": [
        "## 1.1: Importing Libraries & Helper Functions\n",
        "\n",
        "First of all, we will need to import some libraries and helper functions."
      ]
    },
    {
      "cell_type": "code",
      "metadata": {
        "colab": {
          "base_uri": "https://localhost:8080/"
        },
        "id": "56qj3ruWrAsR",
        "outputId": "ed14d00f-2af3-47dc-ffb2-096c76fd0c8e"
      },
      "source": [
        "import pandas as pd\n",
        "import matplotlib.pyplot as plt\n",
        "import tensorflow as tf\n",
        "\n",
        "from utils import *\n",
        "from sklearn.model_selection import train_test_split\n",
        "from tensorflow.keras.models import Sequential\n",
        "from tensorflow.keras.layers import Dense, Dropout\n",
        "from tensorflow.keras.callbacks import EarlyStopping, LambdaCallback\n",
        "\n",
        "%matplotlib inline\n",
        "\n",
        "print('Libraries imported.')"
      ],
      "execution_count": 2,
      "outputs": [
        {
          "output_type": "stream",
          "name": "stdout",
          "text": [
            "Libraries imported.\n"
          ]
        }
      ]
    },
    {
      "cell_type": "markdown",
      "metadata": {
        "id": "UxYHymbdrAsX"
      },
      "source": [
        "# Task 2: Importing the Data"
      ]
    },
    {
      "cell_type": "markdown",
      "metadata": {
        "id": "t10c_c_1rAsb"
      },
      "source": [
        "## 2.1: Importing the Data\n",
        "\n",
        "The dataset is saved in a `data.csv` file. We will use `pandas` to take a look at some of the rows."
      ]
    },
    {
      "cell_type": "code",
      "metadata": {
        "colab": {
          "base_uri": "https://localhost:8080/"
        },
        "id": "gprWbUXirAsd",
        "outputId": "5ffed413-105f-47c1-c164-c9cb515d5e00"
      },
      "source": [
        "df=pd.read_csv('data.csv',names=column_names)\n",
        "print(df.head())"
      ],
      "execution_count": 4,
      "outputs": [
        {
          "output_type": "stream",
          "name": "stdout",
          "text": [
            "   serial  date  age  distance  stores  latitude  longitude  price\n",
            "0       0  2009   21         9       6        84        121  14264\n",
            "1       1  2007    4         2       3        86        121  12032\n",
            "2       2  2016   18         3       7        90        120  13560\n",
            "3       3  2002   13         2       2        80        128  12029\n",
            "4       4  2014   25         5       8        81        122  14157\n"
          ]
        }
      ]
    },
    {
      "cell_type": "markdown",
      "metadata": {
        "id": "rUJBheJ1rAse"
      },
      "source": [
        "## 2.2: Check Missing Data\n",
        "\n",
        "It's a good practice to check if the data has any missing values. "
      ]
    },
    {
      "cell_type": "code",
      "metadata": {
        "colab": {
          "base_uri": "https://localhost:8080/"
        },
        "id": "FzdZ_gFJrAsg",
        "outputId": "4a640e00-b232-4d37-e228-87314b929725"
      },
      "source": [
        "print(df.isna().sum())\n"
      ],
      "execution_count": 5,
      "outputs": [
        {
          "output_type": "stream",
          "name": "stdout",
          "text": [
            "serial       0\n",
            "date         0\n",
            "age          0\n",
            "distance     0\n",
            "stores       0\n",
            "latitude     0\n",
            "longitude    0\n",
            "price        0\n",
            "dtype: int64\n"
          ]
        }
      ]
    },
    {
      "cell_type": "markdown",
      "metadata": {
        "id": "oIyZv0BLrAsi"
      },
      "source": [
        "# Task 3: Data Normalization"
      ]
    },
    {
      "cell_type": "markdown",
      "metadata": {
        "id": "HxDFh-MQrAsj"
      },
      "source": [
        "## 3.1: Data Normalization\n",
        "\n",
        "We can make it easier for optimization algorithms to find minimas by normalizing the data before training a model."
      ]
    },
    {
      "cell_type": "code",
      "metadata": {
        "colab": {
          "base_uri": "https://localhost:8080/"
        },
        "id": "U7iyj8ikrAsp",
        "outputId": "0adb3ae6-c9be-4c64-8568-cceed45b58b9"
      },
      "source": [
        "df=df.iloc[:,1:]\n",
        "df_norm=(df-df.mean())/df.std()\n",
        "print(df_norm.head())"
      ],
      "execution_count": 6,
      "outputs": [
        {
          "output_type": "stream",
          "name": "stdout",
          "text": [
            "       date       age  distance    stores  latitude  longitude     price\n",
            "0  0.015978  0.181384  1.257002  0.345224 -0.307212  -1.260799  0.350088\n",
            "1 -0.350485 -1.319118 -0.930610 -0.609312  0.325301  -1.260799 -1.836486\n",
            "2  1.298598 -0.083410 -0.618094  0.663402  1.590328  -1.576456 -0.339584\n",
            "3 -1.266643 -0.524735 -0.930610 -0.927491 -1.572238   0.948803 -1.839425\n",
            "4  0.932135  0.534444  0.006938  0.981581 -1.255981  -0.945141  0.245266\n"
          ]
        }
      ]
    },
    {
      "cell_type": "markdown",
      "metadata": {
        "id": "6f3E2Y-crAsq"
      },
      "source": [
        "## 3.2: Convert Label Value\n",
        "\n"
      ]
    },
    {
      "cell_type": "code",
      "metadata": {
        "colab": {
          "base_uri": "https://localhost:8080/"
        },
        "id": "PjrGjRT0rAsr",
        "outputId": "dccbd64e-f105-4625-eee3-073453ec7a46"
      },
      "source": [
        "y_mean=df['price'].mean()\n",
        "y_std=df['price'].std()\n",
        "\n",
        "def convert_label_value(pred):\n",
        "    return int(pred *y_std + y_mean )\n",
        "\n",
        "print(convert_label_value(0.350088))"
      ],
      "execution_count": 7,
      "outputs": [
        {
          "output_type": "stream",
          "name": "stdout",
          "text": [
            "14263\n"
          ]
        }
      ]
    },
    {
      "cell_type": "markdown",
      "metadata": {
        "id": "grmnFl27rAss"
      },
      "source": [
        "# Task 4: Create Training and Test Sets"
      ]
    },
    {
      "cell_type": "markdown",
      "metadata": {
        "id": "sQbBPlTRrAst"
      },
      "source": [
        "## 4.1: Select Features\n",
        "\n",
        "Make sure to remove the column __price__ from the list of features as it is the label and should not be used as a feature."
      ]
    },
    {
      "cell_type": "code",
      "metadata": {
        "colab": {
          "base_uri": "https://localhost:8080/"
        },
        "id": "1Kr1qZHkrAsu",
        "outputId": "3921702e-3cf7-4cee-e523-e9123704f0d4"
      },
      "source": [
        "x=df_norm.iloc[:,:6]\n",
        "print(x.head())"
      ],
      "execution_count": 8,
      "outputs": [
        {
          "output_type": "stream",
          "name": "stdout",
          "text": [
            "       date       age  distance    stores  latitude  longitude\n",
            "0  0.015978  0.181384  1.257002  0.345224 -0.307212  -1.260799\n",
            "1 -0.350485 -1.319118 -0.930610 -0.609312  0.325301  -1.260799\n",
            "2  1.298598 -0.083410 -0.618094  0.663402  1.590328  -1.576456\n",
            "3 -1.266643 -0.524735 -0.930610 -0.927491 -1.572238   0.948803\n",
            "4  0.932135  0.534444  0.006938  0.981581 -1.255981  -0.945141\n"
          ]
        }
      ]
    },
    {
      "cell_type": "markdown",
      "metadata": {
        "id": "iwQxAuB4rAsv"
      },
      "source": [
        "## 4.2: Select Labels"
      ]
    },
    {
      "cell_type": "code",
      "metadata": {
        "colab": {
          "base_uri": "https://localhost:8080/"
        },
        "id": "9ukFqaF4rAsw",
        "outputId": "0d07ac41-14b0-4794-ab8b-5d942dfebab0"
      },
      "source": [
        "y=df_norm.iloc[:,-1]\n",
        "print(y.head())"
      ],
      "execution_count": 9,
      "outputs": [
        {
          "output_type": "stream",
          "name": "stdout",
          "text": [
            "0    0.350088\n",
            "1   -1.836486\n",
            "2   -0.339584\n",
            "3   -1.839425\n",
            "4    0.245266\n",
            "Name: price, dtype: float64\n"
          ]
        }
      ]
    },
    {
      "cell_type": "markdown",
      "metadata": {
        "id": "9i9TPzSbrAsx"
      },
      "source": [
        "## 4.3: Feature and Label Values\n",
        "\n",
        "We will need to extract just the numeric values for the features and labels as the TensorFlow model will expect just numeric values as input."
      ]
    },
    {
      "cell_type": "code",
      "metadata": {
        "colab": {
          "base_uri": "https://localhost:8080/"
        },
        "id": "64Kouj-mrAsy",
        "outputId": "e51cb182-210f-4467-970e-ef5ef401eb89"
      },
      "source": [
        "x_arr=x.values\n",
        "y_arr=y.values\n",
        "print('features array shape',x_arr.shape)\n",
        "print('label array shape',y_arr.shape)"
      ],
      "execution_count": 10,
      "outputs": [
        {
          "output_type": "stream",
          "name": "stdout",
          "text": [
            "features array shape (5000, 6)\n",
            "label array shape (5000,)\n"
          ]
        }
      ]
    },
    {
      "cell_type": "markdown",
      "metadata": {
        "id": "pEgXcPuMrAsz"
      },
      "source": [
        "## 4.4: Train and Test Split\n",
        "\n",
        "We will keep some part of the data aside as a __test__ set. The model will not use this set during training and it will be used only for checking the performance of the model in trained and un-trained states. This way, we can make sure that we are going in the right direction with our model training."
      ]
    },
    {
      "cell_type": "code",
      "metadata": {
        "colab": {
          "base_uri": "https://localhost:8080/"
        },
        "id": "uKaLavNXrAs7",
        "outputId": "cf752e95-9f9d-479c-c3d8-fe979c6a8254"
      },
      "source": [
        "x_train,x_test,y_train,y_test=train_test_split(x_arr,y_arr,test_size=0.05,random_state=0)\n",
        "print('training set',x_train.shape, y_train.shape)\n",
        "print('test set',x_test.shape,y_test.shape)"
      ],
      "execution_count": 11,
      "outputs": [
        {
          "output_type": "stream",
          "name": "stdout",
          "text": [
            "training set (4750, 6) (4750,)\n",
            "test set (250, 6) (250,)\n"
          ]
        }
      ]
    },
    {
      "cell_type": "markdown",
      "metadata": {
        "id": "kqiyH4oNrAs8"
      },
      "source": [
        "# Task 5: Create the Model"
      ]
    },
    {
      "cell_type": "markdown",
      "metadata": {
        "id": "AifdhpiarAs8"
      },
      "source": [
        "## 5.1: Create the Model\n",
        "\n",
        "Let's write a function that returns an untrained model of a certain architecture."
      ]
    },
    {
      "cell_type": "code",
      "metadata": {
        "colab": {
          "base_uri": "https://localhost:8080/"
        },
        "id": "chHPTAVVrAs9",
        "outputId": "8ba0777b-8127-44f0-a6bf-e34e896bde70"
      },
      "source": [
        "def get_model():\n",
        "    model=Sequential([\n",
        "        Dense(10,input_shape=(6,),activation='relu'),\n",
        "        Dense(20,activation='relu'),\n",
        "        Dense(5,activation='relu'),\n",
        "        Dense(1)    \n",
        "    ])\n",
        "\n",
        "    model.compile(\n",
        "        loss='mse',\n",
        "        optimizer='adam'\n",
        "    )\n",
        "    return model\n",
        "\n",
        "get_model().summary()"
      ],
      "execution_count": 12,
      "outputs": [
        {
          "output_type": "stream",
          "name": "stdout",
          "text": [
            "Model: \"sequential\"\n",
            "_________________________________________________________________\n",
            "Layer (type)                 Output Shape              Param #   \n",
            "=================================================================\n",
            "dense (Dense)                (None, 10)                70        \n",
            "_________________________________________________________________\n",
            "dense_1 (Dense)              (None, 20)                220       \n",
            "_________________________________________________________________\n",
            "dense_2 (Dense)              (None, 5)                 105       \n",
            "_________________________________________________________________\n",
            "dense_3 (Dense)              (None, 1)                 6         \n",
            "=================================================================\n",
            "Total params: 401\n",
            "Trainable params: 401\n",
            "Non-trainable params: 0\n",
            "_________________________________________________________________\n"
          ]
        }
      ]
    },
    {
      "cell_type": "markdown",
      "metadata": {
        "id": "k2f3XhfTrAs-"
      },
      "source": [
        "# Task 6: Model Training"
      ]
    },
    {
      "cell_type": "markdown",
      "metadata": {
        "id": "qZ2ajrq1rAs-"
      },
      "source": [
        "## 6.1: Model Training\n",
        "\n",
        "We can use an `EarlyStopping` callback from Keras to stop the model training if the validation loss stops decreasing for a few epochs."
      ]
    },
    {
      "cell_type": "code",
      "metadata": {
        "colab": {
          "base_uri": "https://localhost:8080/"
        },
        "id": "y9U7AmUyrAs_",
        "outputId": "3c3da9b6-de0d-4c70-ca58-02849e49e066"
      },
      "source": [
        "es_cb=EarlyStopping(monitor='val_loss',patience=5)\n",
        "\n",
        "model=get_model()\n",
        "preds_on_untrained=model.predict(x_test)\n",
        "\n",
        "history=model.fit(\n",
        "    x_train,y_train,\n",
        "    validation_data=(x_test,y_test),\n",
        "    epochs=100,\n",
        "    callbacks=[es_cb]\n",
        "    )"
      ],
      "execution_count": 13,
      "outputs": [
        {
          "output_type": "stream",
          "name": "stdout",
          "text": [
            "Epoch 1/100\n",
            "149/149 [==============================] - 1s 3ms/step - loss: 0.5724 - val_loss: 0.3115\n",
            "Epoch 2/100\n",
            "149/149 [==============================] - 0s 1ms/step - loss: 0.2526 - val_loss: 0.1947\n",
            "Epoch 3/100\n",
            "149/149 [==============================] - 0s 2ms/step - loss: 0.1877 - val_loss: 0.1723\n",
            "Epoch 4/100\n",
            "149/149 [==============================] - 0s 1ms/step - loss: 0.1717 - val_loss: 0.1636\n",
            "Epoch 5/100\n",
            "149/149 [==============================] - 0s 1ms/step - loss: 0.1646 - val_loss: 0.1582\n",
            "Epoch 6/100\n",
            "149/149 [==============================] - 0s 1ms/step - loss: 0.1615 - val_loss: 0.1588\n",
            "Epoch 7/100\n",
            "149/149 [==============================] - 0s 2ms/step - loss: 0.1592 - val_loss: 0.1571\n",
            "Epoch 8/100\n",
            "149/149 [==============================] - 0s 2ms/step - loss: 0.1584 - val_loss: 0.1535\n",
            "Epoch 9/100\n",
            "149/149 [==============================] - 0s 1ms/step - loss: 0.1565 - val_loss: 0.1539\n",
            "Epoch 10/100\n",
            "149/149 [==============================] - 0s 2ms/step - loss: 0.1560 - val_loss: 0.1527\n",
            "Epoch 11/100\n",
            "149/149 [==============================] - 0s 2ms/step - loss: 0.1556 - val_loss: 0.1493\n",
            "Epoch 12/100\n",
            "149/149 [==============================] - 0s 1ms/step - loss: 0.1548 - val_loss: 0.1508\n",
            "Epoch 13/100\n",
            "149/149 [==============================] - 0s 2ms/step - loss: 0.1543 - val_loss: 0.1512\n",
            "Epoch 14/100\n",
            "149/149 [==============================] - 0s 2ms/step - loss: 0.1531 - val_loss: 0.1487\n",
            "Epoch 15/100\n",
            "149/149 [==============================] - 0s 2ms/step - loss: 0.1529 - val_loss: 0.1538\n",
            "Epoch 16/100\n",
            "149/149 [==============================] - 0s 2ms/step - loss: 0.1526 - val_loss: 0.1493\n",
            "Epoch 17/100\n",
            "149/149 [==============================] - 0s 1ms/step - loss: 0.1533 - val_loss: 0.1535\n",
            "Epoch 18/100\n",
            "149/149 [==============================] - 0s 2ms/step - loss: 0.1526 - val_loss: 0.1578\n",
            "Epoch 19/100\n",
            "149/149 [==============================] - 0s 2ms/step - loss: 0.1531 - val_loss: 0.1497\n"
          ]
        }
      ]
    },
    {
      "cell_type": "markdown",
      "metadata": {
        "id": "xtMp-fZ2rAtA"
      },
      "source": [
        "## 6.2: Plot Training and Validation Loss\n",
        "\n",
        "Let's use the `plot_loss` helper function to take a look training and validation loss."
      ]
    },
    {
      "cell_type": "code",
      "metadata": {
        "colab": {
          "base_uri": "https://localhost:8080/",
          "height": 497
        },
        "id": "GUmBtV65rAtA",
        "outputId": "b0ec2d45-4e91-45da-8156-fdedbaf99e27"
      },
      "source": [
        "plot_loss(history)\n"
      ],
      "execution_count": 14,
      "outputs": [
        {
          "output_type": "display_data",
          "data": {
            "image/png": "[encoded data removed]",
            "text/plain": [
              "<Figure size 576x576 with 1 Axes>"
            ]
          },
          "metadata": {
            "needs_background": "light"
          }
        }
      ]
    },
    {
      "cell_type": "markdown",
      "metadata": {
        "id": "2-WO-R4hrAtB"
      },
      "source": [
        "# Task 7: Predictions"
      ]
    },
    {
      "cell_type": "markdown",
      "metadata": {
        "id": "b_vNmmMhrAtB"
      },
      "source": [
        "## 7.1: Plot Raw Predictions\n",
        "\n",
        "Let's use the `compare_predictions` helper function to compare predictions from the model when it was untrained and when it was trained."
      ]
    },
    {
      "cell_type": "code",
      "metadata": {
        "colab": {
          "base_uri": "https://localhost:8080/",
          "height": 551
        },
        "id": "vk-OtsB7rAtC",
        "outputId": "a5aa0ba1-f9c7-40bb-f134-06c7cf87350f"
      },
      "source": [
        "preds_on_trained=model.predict(x_test)\n",
        "compare_predictions(preds_on_untrained,preds_on_trained,y_test)\n"
      ],
      "execution_count": 15,
      "outputs": [
        {
          "output_type": "stream",
          "name": "stderr",
          "text": [
            "/usr/local/lib/python3.7/dist-packages/numpy/core/_asarray.py:136: VisibleDeprecationWarning: Creating an ndarray from ragged nested sequences (which is a list-or-tuple of lists-or-tuples-or ndarrays with different lengths or shapes) is deprecated. If you meant to do this, you must specify 'dtype=object' when creating the ndarray\n",
            "  return array(a, dtype, copy=False, order=order, subok=True)\n"
          ]
        },
        {
          "output_type": "display_data",
          "data": {
            "image/png": "[encoded data removed]",
            "text/plain": [
              "<Figure size 576x576 with 1 Axes>"
            ]
          },
          "metadata": {
            "needs_background": "light"
          }
        }
      ]
    },
    {
      "cell_type": "markdown",
      "metadata": {
        "id": "O2zUg5DSrAtC"
      },
      "source": [
        "## 7.2: Plot Price Predictions\n",
        "\n",
        "The plot for price predictions and raw predictions will look the same with just one difference: The x and y axis scale is changed."
      ]
    },
    {
      "cell_type": "code",
      "metadata": {
        "colab": {
          "base_uri": "https://localhost:8080/",
          "height": 497
        },
        "id": "AvOyc4SyrAtD",
        "outputId": "29b78739-72fe-49b0-c6b1-670aa6c3fb93"
      },
      "source": [
        "price_untrained=[convert_label_value(y) for y in preds_on_untrained]\n",
        "price_trained=[convert_label_value(y) for y in preds_on_trained]\n",
        "price_test=[convert_label_value(y) for y in y_test]\n",
        "\n",
        "compare_predictions(price_untrained,price_trained,price_test)\n",
        "\n"
      ],
      "execution_count": 16,
      "outputs": [
        {
          "output_type": "display_data",
          "data": {
            "image/png": "[encoded data removed]",
            "text/plain": [
              "<Figure size 576x576 with 1 Axes>"
            ]
          },
          "metadata": {
            "needs_background": "light"
          }
        }
      ]
    },
    {
      "cell_type": "code",
      "metadata": {
        "id": "gQ4Erj5ss6z2"
      },
      "source": [
        ""
      ],
      "execution_count": null,
      "outputs": []
    }
  ]
}